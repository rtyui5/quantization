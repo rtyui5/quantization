{
 "cells": [
  {
   "cell_type": "markdown",
   "metadata": {},
   "source": [
    "# Uniform midtread scalar quantization"
   ]
  },
  {
   "cell_type": "code",
   "execution_count": 4,
   "metadata": {},
   "outputs": [
    {
     "data": {
      "image/png": "[encoded data removed]",
      "text/plain": [
       "<Figure size 432x288 with 1 Axes>"
      ]
     },
     "metadata": {
      "needs_background": "light"
     },
     "output_type": "display_data"
    }
   ],
   "source": [
    "%matplotlib inline\n",
    "\n",
    "import matplotlib\n",
    "import numpy as np\n",
    "import matplotlib.pyplot as plt\n",
    "import matplotlib.axes as ax\n",
    "\n",
    "fig = plt.figure()\n",
    "x = np.linspace(-6, 6, 500)\n",
    "y = np.round(x)\n",
    "\n",
    "ax = fig.add_subplot(111)\n",
    "ax.set_title('uniform midtread scalar quantizer')\n",
    "ax.spines['left'].set_position('zero')\n",
    "ax.spines['right'].set_color('none')\n",
    "ax.spines['bottom'].set_position('zero')\n",
    "ax.spines['top'].set_color('none')\n",
    "ax.xaxis.set_label_coords(0.9,0.39)\n",
    "ax.xaxis.set_label_text('decision levels')\n",
    "ax.yaxis.set_label_coords(0.45,.76)\n",
    "ax.yaxis.set_label_text('representation levels')\n",
    "ax.grid()\n",
    "ax.plot(x, y)\n",
    "plt.savefig(\"midtread.svg\")"
   ]
  },
  {
   "cell_type": "code",
   "execution_count": 2,
   "metadata": {},
   "outputs": [
    {
     "data": {
      "text/latex": [
       "$\\displaystyle s(nT_s)~~\\lceil s(nT_s)/\\Delta\\rceil ~~s[n]=\\Delta\\times\\lceil s(nT_s)/\\Delta\\rceil~~e(nT_s)=s(nT_s)-s[n]$"
      ],
      "text/plain": [
       "<IPython.core.display.Math object>"
      ]
     },
     "metadata": {},
     "output_type": "display_data"
    },
    {
     "name": "stdout",
     "output_type": "stream",
     "text": [
      " -16      -8           -15.5                    -0.5\n",
      " -15      -8           -15.5                    +0.5\n",
      " -14      -7           -13.5                    -0.5\n",
      " -13      -7           -13.5                    +0.5\n",
      " -12      -6           -11.5                    -0.5\n",
      " -11      -6           -11.5                    +0.5\n",
      " -10      -5            -9.5                    -0.5\n",
      "  -9      -5            -9.5                    +0.5\n",
      "  -8      -4            -7.5                    -0.5\n",
      "  -7      -4            -7.5                    +0.5\n",
      "  -6      -3            -5.5                    -0.5\n",
      "  -5      -3            -5.5                    +0.5\n",
      "  -4      -2            -3.5                    -0.5\n",
      "  -3      -2            -3.5                    +0.5\n",
      "  -2      -1            -1.5                    -0.5\n",
      "  -1      -1            -1.5                    +0.5\n",
      "  +0      +0            +0.5                    -0.5\n",
      "  +1      +0            +0.5                    +0.5\n",
      "  +2      +1            +2.5                    -0.5\n",
      "  +3      +1            +2.5                    +0.5\n",
      "  +4      +2            +4.5                    -0.5\n",
      "  +5      +2            +4.5                    +0.5\n",
      "  +6      +3            +6.5                    -0.5\n",
      "  +7      +3            +6.5                    +0.5\n",
      "  +8      +4            +8.5                    -0.5\n",
      "  +9      +4            +8.5                    +0.5\n",
      " +10      +5           +10.5                    -0.5\n",
      " +11      +5           +10.5                    +0.5\n",
      " +12      +6           +12.5                    -0.5\n",
      " +13      +6           +12.5                    +0.5\n",
      " +14      +7           +14.5                    -0.5\n",
      " +15      +7           +14.5                    +0.5\n"
     ]
    },
    {
     "data": {
      "text/latex": [
       "$\\displaystyle \\text{In this example}, \\Delta=2.0.~\\text{Therefore, for the defined input range}~[-16.0,15.0],\\\n",
       "        \\text{this is a}~q=4\\text{-bits quantizer}~(Q=16).$"
      ],
      "text/plain": [
       "<IPython.core.display.Math object>"
      ]
     },
     "metadata": {},
     "output_type": "display_data"
    }
   ],
   "source": [
    "from IPython.display import display, Math, Latex\n",
    "display(Math(r's(nT_s)~~\\lceil s(nT_s)/\\Delta\\rceil ~~s[n]=\\Delta\\times\\lceil s(nT_s)/\\Delta\\rceil~~e(nT_s)=s(nT_s)-s[n]'))\n",
    "for i in range(-16,16):\n",
    "    sample = i\n",
    "    quantized_sample = (i//2)*2+0.5\n",
    "    quantization_error = sample - quantized_sample\n",
    "    print(\"{:+4d}     {:+3d}           {:>+5}                    {:>+4}\".\\\n",
    "          format(sample, i//2, quantized_sample, quantization_error))\n",
    "display(Math(r'\\text{In this example}, \\Delta=2.0.~\\text{Therefore, for the defined input range}~[-16.0,15.0],\\\n",
    "        \\text{this is a}~q=4\\text{-bits quantizer}~(Q=16).'))"
   ]
  },
  {
   "cell_type": "code",
   "execution_count": null,
   "metadata": {},
   "outputs": [],
   "source": []
  }
 ],
 "metadata": {
  "kernelspec": {
   "display_name": "Python 3",
   "language": "python",
   "name": "python3"
  },
  "language_info": {
   "codemirror_mode": {
    "name": "ipython",
    "version": 3
   },
   "file_extension": ".py",
   "mimetype": "text/x-python",
   "name": "python",
   "nbconvert_exporter": "python",
   "pygments_lexer": "ipython3",
   "version": "3.8.1"
  }
 },
 "nbformat": 4,
 "nbformat_minor": 2
}
