{
 "cells": [
  {
   "cell_type": "markdown",
   "metadata": {},
   "source": [
    "# Signal quantization"
   ]
  },
  {
   "cell_type": "markdown",
   "metadata": {},
   "source": [
    "## [(Scalar) Quantization](https://en.wikipedia.org/wiki/Quantization\\_\\(signal\\_processing\\))\n",
    "\n",
    "* Quantizers discretize the amplitude of a [PAM signal](https://en.wikipedia.org/wiki/Pulse-amplitude_modulation) $s(nT_s)$, producing a loss of information.\n",
    "\n",
    "* The quantization process can be modeled as\n",
    "$$\n",
    "    s[n] = s(nT_s) + e(nT_s),\n",
    "$$\n",
    "being $s[n]$ the the quantized signal and $e(nT_s)$ the quantization error.\n"
   ]
  },
  {
   "cell_type": "markdown",
   "metadata": {},
   "source": [
    "## Uniform (lineal) quantization\n",
    "\n",
    "* All quantizers are defined with $d_i; i\\in {\\mathcal{Z}}$ (decision levels) and $r_i; i\\in {\\mathcal{Z}}$ (representation levels). In a linear quantizer, the quantization step $Z$ satisfies that\n",
    "  \\begin{equation}\n",
    "    Z=d_{i+1}-d_i=r_{i+1}-r_i.\n",
    "  \\end{equation}\n",
    "  Notice that the number of representation/decision levels is inversely proportional to $Z$, and viceversa.\n",
    "  \n",
    "* In uniform quantizers, $Z$ does not depends on the PAM sample values.\n",
    "\n",
    "<img src=\"local/lineal_quantization.png\" width=600>\n",
    "\n",
    "* Notice that in this quantizer, $e(nTs)_\\text{max}=\\frac{Z}{2}$."
   ]
  },
  {
   "cell_type": "code",
   "execution_count": 73,
   "metadata": {},
   "outputs": [
    {
     "data": {
      "text/latex": [
       "$$s(nT_s)~~\\lceil s(nT_s)/2\\rceil ~~~s[n]~~~~~~~~e(nT_s)$$"
      ],
      "text/plain": [
       "<IPython.core.display.Math object>"
      ]
     },
     "metadata": {},
     "output_type": "display_data"
    },
    {
     "name": "stdout",
     "output_type": "stream",
     "text": [
      " -16     -8    -15.5    -0.5\n",
      " -15     -8    -15.5    +0.5\n",
      " -14     -7    -13.5    -0.5\n",
      " -13     -7    -13.5    +0.5\n",
      " -12     -6    -11.5    -0.5\n",
      " -11     -6    -11.5    +0.5\n",
      " -10     -5     -9.5    -0.5\n",
      "  -9     -5     -9.5    +0.5\n",
      "  -8     -4     -7.5    -0.5\n",
      "  -7     -4     -7.5    +0.5\n",
      "  -6     -3     -5.5    -0.5\n",
      "  -5     -3     -5.5    +0.5\n",
      "  -4     -2     -3.5    -0.5\n",
      "  -3     -2     -3.5    +0.5\n",
      "  -2     -1     -1.5    -0.5\n",
      "  -1     -1     -1.5    +0.5\n",
      "  +0     +0     +0.5    -0.5\n",
      "  +1     +0     +0.5    +0.5\n",
      "  +2     +1     +2.5    -0.5\n",
      "  +3     +1     +2.5    +0.5\n",
      "  +4     +2     +4.5    -0.5\n",
      "  +5     +2     +4.5    +0.5\n",
      "  +6     +3     +6.5    -0.5\n",
      "  +7     +3     +6.5    +0.5\n",
      "  +8     +4     +8.5    -0.5\n",
      "  +9     +4     +8.5    +0.5\n",
      " +10     +5    +10.5    -0.5\n",
      " +11     +5    +10.5    +0.5\n",
      " +12     +6    +12.5    -0.5\n",
      " +13     +6    +12.5    +0.5\n",
      " +14     +7    +14.5    -0.5\n"
     ]
    }
   ],
   "source": [
    "from IPython.display import display, Math, Latex\n",
    "display(Math(r's(nT_s)~~\\lceil s(nT_s)/2\\rceil ~~~s[n]~~~~~~~~e(nT_s)'))\n",
    "for i in range(-16,15):\n",
    "    sample = i\n",
    "    quantized_sample = (i//2)*2+0.5\n",
    "    quantization_error = sample - quantized_sample\n",
    "    print(\"{:+4d}    {:+3d}    {:>+5}    {:>+4}\".format(sample, i//2, quantized_sample, quantization_error))"
   ]
  },
  {
   "cell_type": "markdown",
   "metadata": {},
   "source": [
    "## Adaptive quantization\n",
    "\n",
    "* In order to minimize the maximun, average or total quantization errors, $Z$ can be adapted to the characteristics of $s(sT_s)$.\n",
    "\n",
    "<img src=\"local/cuantif_max-lloyd.png\" width=600>\n",
    "\n",
    "* It can be probed that, to minimize the total quantization error, $Z\\propto\\text{var(s)}$ (the variance of the signal)."
   ]
  },
  {
   "cell_type": "markdown",
   "metadata": {},
   "source": [
    "## Links\n",
    "\n",
    "1. https://wiki.multimedia.cx/index.php/Scalar_Quantization"
   ]
  },
  {
   "cell_type": "code",
   "execution_count": null,
   "metadata": {},
   "outputs": [],
   "source": []
  }
 ],
 "metadata": {
  "kernelspec": {
   "display_name": "Python 3",
   "language": "python",
   "name": "python3"
  },
  "language_info": {
   "codemirror_mode": {
    "name": "ipython",
    "version": 3
   },
   "file_extension": ".py",
   "mimetype": "text/x-python",
   "name": "python",
   "nbconvert_exporter": "python",
   "pygments_lexer": "ipython3",
   "version": "3.6.3"
  }
 },
 "nbformat": 4,
 "nbformat_minor": 2
}
