{
 "cells": [
  {
   "cell_type": "markdown",
   "metadata": {},
   "source": [
    "# Signal quantization"
   ]
  },
  {
   "cell_type": "markdown",
   "metadata": {},
   "source": [
    "## [(Scalar) Quantization](https://en.wikipedia.org/wiki/Quantization\\_\\(signal\\_processing\\))\n",
    "\n",
    "* Quantizers discretize the amplitude of a [PAM signal](https://en.wikipedia.org/wiki/Pulse-amplitude_modulation) $s(nT_s)$, producing a loss of information.\n",
    "\n",
    "* The quantization process can be modeled as\n",
    "$$\n",
    "    s[n] = s(nT_s) + e(nT_s),\n",
    "$$\n",
    "being $s[n]$ the the quantized signal and $e(nT_s)$ the quantization error.\n",
    "\n",
    "* Depending on the number of $Q$ different possible values for $s[]$, we speak of a $q=\\lceil\\log_2(Q)\\rceil$-bits quantizer (but this not means that the output of the quantizer are $q$ bits for each sample, only that we have $2^q$ representation levels)."
   ]
  },
  {
   "cell_type": "markdown",
   "metadata": {},
   "source": [
    "## Uniform (lineal) quantization\n",
    "\n",
    "* All quantizers are defined with $d_i; i\\in {\\mathcal{Z}}$ (decision levels) and $r_i; i\\in {\\mathcal{Z}}$ (representation levels). In a linear quantizer, the quantization step $\\Delta$ satisfies that\n",
    "  \\begin{equation}\n",
    "    \\Delta=d_{i+1}-d_i=r_{i+1}-r_i.\n",
    "  \\end{equation}\n",
    "  Notice that, for a given dynamic range of $s$, the $Q$ is inversely proportional to $\\Delta$, and viceversa.\n",
    "  \n",
    "* In uniform quantizers, $\\Delta$ does not depends on the PAM sample values.\n",
    "<img src=\"local/lineal_quantization.png\" width=600>\n",
    "Notice that in this quantizer, $e(nTs)_\\text{max}=\\frac{\\Delta}{2}$. This is a $q=\\lceil\\log_2(5)\\rceil=3$-bits quantizer.\n",
    "\n",
    "* Uniform quantizers are used in most A/D (analogic/digital) converters."
   ]
  },
  {
   "cell_type": "markdown",
   "metadata": {},
   "source": [
    "## Example (uniform quantization)"
   ]
  },
  {
   "cell_type": "code",
   "execution_count": 20,
   "metadata": {},
   "outputs": [
    {
     "data": {
      "text/latex": [
       "$$s(nT_s)~~\\lceil s(nT_s)/\\Delta\\rceil ~~s[n]=\\Delta\\times\\lceil s(nT_s)/\\Delta\\rceil~~e(nT_s)=s(nT_s)-s[n]$$"
      ],
      "text/plain": [
       "<IPython.core.display.Math object>"
      ]
     },
     "metadata": {},
     "output_type": "display_data"
    },
    {
     "name": "stdout",
     "output_type": "stream",
     "text": [
      " -16     -8           -15.5                 -0.5\n",
      " -15     -8           -15.5                 +0.5\n",
      " -14     -7           -13.5                 -0.5\n",
      " -13     -7           -13.5                 +0.5\n",
      " -12     -6           -11.5                 -0.5\n",
      " -11     -6           -11.5                 +0.5\n",
      " -10     -5            -9.5                 -0.5\n",
      "  -9     -5            -9.5                 +0.5\n",
      "  -8     -4            -7.5                 -0.5\n",
      "  -7     -4            -7.5                 +0.5\n",
      "  -6     -3            -5.5                 -0.5\n",
      "  -5     -3            -5.5                 +0.5\n",
      "  -4     -2            -3.5                 -0.5\n",
      "  -3     -2            -3.5                 +0.5\n",
      "  -2     -1            -1.5                 -0.5\n",
      "  -1     -1            -1.5                 +0.5\n",
      "  +0     +0            +0.5                 -0.5\n",
      "  +1     +0            +0.5                 +0.5\n",
      "  +2     +1            +2.5                 -0.5\n",
      "  +3     +1            +2.5                 +0.5\n",
      "  +4     +2            +4.5                 -0.5\n",
      "  +5     +2            +4.5                 +0.5\n",
      "  +6     +3            +6.5                 -0.5\n",
      "  +7     +3            +6.5                 +0.5\n",
      "  +8     +4            +8.5                 -0.5\n",
      "  +9     +4            +8.5                 +0.5\n",
      " +10     +5           +10.5                 -0.5\n",
      " +11     +5           +10.5                 +0.5\n",
      " +12     +6           +12.5                 -0.5\n",
      " +13     +6           +12.5                 +0.5\n",
      " +14     +7           +14.5                 -0.5\n",
      " +15     +7           +14.5                 +0.5\n"
     ]
    },
    {
     "data": {
      "text/latex": [
       "$$\\text{In this example}, \\Delta=2.0.~\\text{Therefore, for the defined input range}~[-16.0,15.0],        \\text{this is a}~q=4\\text{-bits quantizer}~(Q=16).$$"
      ],
      "text/plain": [
       "<IPython.core.display.Math object>"
      ]
     },
     "metadata": {},
     "output_type": "display_data"
    }
   ],
   "source": [
    "from IPython.display import display, Math, Latex\n",
    "display(Math(r's(nT_s)~~\\lceil s(nT_s)/\\Delta\\rceil ~~s[n]=\\Delta\\times\\lceil s(nT_s)/\\Delta\\rceil~~e(nT_s)=s(nT_s)-s[n]'))\n",
    "for i in range(-16,16):\n",
    "    sample = i\n",
    "    quantized_sample = (i//2)*2+0.5\n",
    "    quantization_error = sample - quantized_sample\n",
    "    print(\"{:+4d}    {:+3d}           {:>+5}                 {:>+4}\".\\\n",
    "          format(sample, i//2, quantized_sample, quantization_error))\n",
    "display(Math(r'\\text{In this example}, \\Delta=2.0.~\\text{Therefore, for the defined input range}~[-16.0,15.0],\\\n",
    "        \\text{this is a}~q=4\\text{-bits quantizer}~(Q=16).'))"
   ]
  },
  {
   "cell_type": "markdown",
   "metadata": {},
   "source": [
    "## Adaptive quantization\n",
    "\n",
    "* In order to minimize the maximun, average or the total quantization error, $\\Delta$ can be adapted to the characteristics of $s$. For example, if we known the probability distribution of the samples, we can select a small $\\Delta$ for the most probable samples and viceversa. \n",
    "\n",
    "<img src=\"local/cuantif_max-lloyd.png\" width=600>\n",
    "\n",
    "* The most used technique for selecting $\\Delta$ is to minimize the variance of $s$ ??? It can be probed that, to minimize the total quantization error, $Z\\propto\\text{var(s)}$ (the variance of the signal)."
   ]
  },
  {
   "cell_type": "markdown",
   "metadata": {},
   "source": [
    "## Forward adaptive quantization\n",
    "\n",
    "1. While samples in $s$:\n",
    "    1. Put into $b$ the next $B$ samples of $s$.\n",
    "    2. Determine $\\Delta$ and output it.\n",
    "    3. Quantize $b$ and output it.\n",
    "    \n",
    "* The selection of $B$ is a trade-off between the increase in side information necessitated by small block sizes and the loss of fidelity due to large block sizes.\n",
    "\n",
    "* $B$-samples delay (buffering).\n",
    "\n",
    "* There are two main approaches to adapting the quantizer parameters [[]](): an *off-line* or *forward adaptive* approach, and an *on-line* or *backward adaptive* approach. In forward adaptive quantization, the source output is divided into blocks of data. Each block is analyzed before quantization, and the quantizer parameters are set accordingly. The settings of the quantizer are then transmitted to the receiver as side information. In backward adaptive quantization, the adaptation is performed based on the quantizer output. As this is available to both transmitter and receiver, there is no need for side information."
   ]
  },
  {
   "cell_type": "markdown",
   "metadata": {},
   "source": [
    "## Backward adaptive quantization"
   ]
  },
  {
   "cell_type": "markdown",
   "metadata": {},
   "source": [
    "## Links\n",
    "\n",
    "1. https://wiki.multimedia.cx/index.php/Scalar_Quantization"
   ]
  },
  {
   "cell_type": "code",
   "execution_count": null,
   "metadata": {},
   "outputs": [],
   "source": []
  }
 ],
 "metadata": {
  "kernelspec": {
   "display_name": "Python 3",
   "language": "python",
   "name": "python3"
  },
  "language_info": {
   "codemirror_mode": {
    "name": "ipython",
    "version": 3
   },
   "file_extension": ".py",
   "mimetype": "text/x-python",
   "name": "python",
   "nbconvert_exporter": "python",
   "pygments_lexer": "ipython3",
   "version": "3.6.3"
  }
 },
 "nbformat": 4,
 "nbformat_minor": 2
}
